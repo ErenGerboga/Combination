{
  "nbformat": 4,
  "nbformat_minor": 0,
  "metadata": {
    "colab": {
      "name": "Odev-2.ipynb",
      "provenance": [],
      "collapsed_sections": [],
      "authorship_tag": "ABX9TyNN3Ie9pkd5qrxSEeCht17Z",
      "include_colab_link": true
    },
    "kernelspec": {
      "name": "python3",
      "display_name": "Python 3"
    }
  },
  "cells": [
    {
      "cell_type": "markdown",
      "metadata": {
        "id": "view-in-github",
        "colab_type": "text"
      },
      "source": [
        "<a href=\"https://colab.research.google.com/github/ErenGerboga/Combination/blob/master/Odev_2.ipynb\" target=\"_parent\"><img src=\"https://colab.research.google.com/assets/colab-badge.svg\" alt=\"Open In Colab\"/></a>"
      ]
    },
    {
      "cell_type": "code",
      "metadata": {
        "id": "w1ttkhrsw_9N",
        "colab_type": "code",
        "colab": {}
      },
      "source": [
        ""
      ],
      "execution_count": 0,
      "outputs": []
    },
    {
      "cell_type": "markdown",
      "metadata": {
        "id": "f0AYeM2mahPk",
        "colab_type": "text"
      },
      "source": [
        "**ABDULLAH EREN GERBOĞA**\n",
        "\n",
        "**195112014**\n",
        "\n",
        "**ODEV-2 (KOMBİNASYON)**"
      ]
    },
    {
      "cell_type": "markdown",
      "metadata": {
        "id": "PszSMJRySLBa",
        "colab_type": "text"
      },
      "source": [
        "ODEV-2\n",
        "(Homework-2)\n",
        "\n",
        "Problem- Bahçeleriçi mahallesinde 4 kişilik bir ailede COVID-19 Virüs tespit edilmiştir. Bu mahallede yaşayan EREN, bu mahallede ki bakkala günde 4 saat bakmaktadır. Aşağıdaki verilen bilgilere göre Eren'nin virüslü aile ile temas etmiş olma olasılığı nedir?\n",
        "\n",
        "Hasta_Sayısı= 4 #Onaylanmış güncel veri(20.04.20)\n",
        "Mahalle_Nüfus= 11821 #Mahallede yaşayan insan sayısı\n",
        "Müşteri_Sayısı= 300 #Günlük ortalama müşteri sayısı\n",
        "\n",
        "    Dükkan 9:00 - 21:00 Açıktır\n",
        "    Müşteri yoğunluğunun homojen olduğu düşünülürse;\n",
        "\n",
        "N= (300/12)*4 # Eren dükkanda olduğu süre zarfında gelen müşteri sayısı\n",
        "\n",
        "CEVAP: Toplam olasılıktan Virüs taşımayan insanların 4 saatlik süre boyunca dükkana gelme ihtimalinden çıkartılırsa, Erenin virüsü taşıyan insanlarla temas etmiş olma ihtimali bulunur.\n",
        "\n",
        "# Ornek Uzay= C(11821,100)\n",
        "# Olay  Uzay= C(11817,100)\n",
        "    P(E)+P'(E)=1\n",
        "\n",
        "\n",
        "\n",
        "\n"
      ]
    },
    {
      "cell_type": "markdown",
      "metadata": {
        "id": "1SGotVS_xFNO",
        "colab_type": "text"
      },
      "source": [
        "AYRIK SİSTEMLER İÇİN İLERİ OLASILIK ODEV-2\n"
      ]
    },
    {
      "cell_type": "code",
      "metadata": {
        "id": "73YqaMzLxRIW",
        "colab_type": "code",
        "colab": {
          "base_uri": "https://localhost:8080/",
          "height": 34
        },
        "outputId": "30d44c95-538e-4832-bc93-729049f942db"
      },
      "source": [
        "# -*- coding: utf-8 -*-\n",
        "\"\"\"\n",
        "Created on Mon Apr 20 15:52:56 2020\n",
        "\n",
        "@author: ereng\n",
        "\"\"\"\n",
        "\n",
        "import numpy as np\n",
        "import matplotlib.pyplot as plt\n",
        "from pylab import*\n",
        "import math\n",
        "\n",
        "\n",
        "\n",
        "#Faktoriyel\n",
        "#Factorial\n",
        "def factorial(n):\n",
        "    return 1 if (n==1 or n==0) else n * factorial(n - 1); \n",
        "\n",
        "            \n",
        "            \n",
        "#Kombinasyon\n",
        "#Combination    \n",
        "def Combination(n,m):\n",
        "    return  math.factorial(n)/(math.factorial(n-m)* math.factorial(m));\n",
        "\n",
        "\n",
        "def Probablity_Hw2():\n",
        "    #Problem Tanımı= EREN hergün günde 4 saat bakkala bakmaktadır. Mahallede 4 kişilik bir ailede Virüs olduğu bilinmektedir.\n",
        "    #Müşteri yoğunluğunun gün içerisinde homojen olduğu düşünülerek.\n",
        "    # Erenin aşağıda verilen güncel verilere göre Virüslü müşteriyle karşılaşmış olma ihtimalini hesaplayınız.\n",
        "\n",
        "    #H = 4 Mahallede Onaylanmış Vaka  sayısı (20.04.2020 için) \n",
        "    #N = 11821  Mahallede oturan kişi sayısı (20.04.2020 için)\n",
        "    #MüşteriSayısı= 300 Bakkala gelen günlük ortalama müşteri\n",
        "    #Dükkanın açık olduğu saatler 9:00 - 21:00 \n",
        "\n",
        "    #EREN'nin dükkanda olduğu sürece gelen müşteri sayısı\n",
        "    NumberOf_ComingToMarket=(300/12)*4\n",
        " \n",
        "    \n",
        "    \n",
        "\n",
        "    # Gelen 100 kişinin  virüs taşımama ihtimali bulunursa; \n",
        "    NumberOf_TotalPerson=11821\n",
        "    Number_HealthPerson= 11821-4\n",
        "\n",
        "    C1=Combination(NumberOf_TotalPerson,NumberOf_ComingToMarket) #Örnek Uzay\n",
        "    C2=Combination(Number_HealthPerson,NumberOf_ComingToMarket) #Olay Uzay\n",
        "    P3= C2/C1\n",
        "    \n",
        "    #Toplam olasılık 1 olacağından \n",
        "    # Virüs taşımayanların gelmiş olma ihtimali 1'den çıkarıldığında \n",
        "    # Eren'nin virüs taşıyan bireyle karşılaşma ihtimali  bulunur.\n",
        "    #Olasılık(Probablity)= % 0.03341530680141047\n",
        "    return (1-P3);\n",
        "  \n",
        "print(\"Olasılık(Probablity)= %\",Probablity_Hw2()*100);\n",
        "#Olasılık(Probablity)= % 3.341530680141047\n",
        "\n"
      ],
      "execution_count": 2,
      "outputs": [
        {
          "output_type": "stream",
          "text": [
            "Olasılık(Probablity)= % 3.341530680141047\n"
          ],
          "name": "stdout"
        }
      ]
    }
  ]
}